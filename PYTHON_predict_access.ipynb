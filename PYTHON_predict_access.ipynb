{
  "nbformat": 4,
  "nbformat_minor": 0,
  "metadata": {
    "colab": {
      "name": "PYTHON_predict_access.ipynb",
      "provenance": [],
      "authorship_tag": "ABX9TyOeOgmzlIe4GMd/Fodcm4WY",
      "include_colab_link": true
    },
    "kernelspec": {
      "name": "python3",
      "display_name": "Python 3"
    },
    "language_info": {
      "name": "python"
    }
  },
  "cells": [
    {
      "cell_type": "markdown",
      "metadata": {
        "id": "view-in-github",
        "colab_type": "text"
      },
      "source": [
        "<a href=\"https://colab.research.google.com/github/josuecaldas/predict_access/blob/main/PYTHON_predict_access.ipynb\" target=\"_parent\"><img src=\"https://colab.research.google.com/assets/colab-badge.svg\" alt=\"Open In Colab\"/></a>"
      ]
    },
    {
      "cell_type": "markdown",
      "source": [
        "#### SET UP DATA"
      ],
      "metadata": {
        "id": "ZTmvJgfZgByp"
      }
    },
    {
      "cell_type": "code",
      "execution_count": 1,
      "metadata": {
        "id": "Ed1ckTAOWG34"
      },
      "outputs": [],
      "source": [
        "# Librerias de tratamiento\n",
        "# ========================\n",
        "\n",
        "import pandas as pd\n",
        "import numpy as np"
      ]
    },
    {
      "cell_type": "code",
      "source": [
        "# Librerias de preprocesamiento y modelado\n",
        "# ========================================\n",
        "\n",
        "from scipy.stats import pearsonr\n",
        "from sklearn import metrics\n",
        "from sklearn.model_selection import train_test_split\n",
        "from sklearn.metrics import mean_squared_error\n",
        "from sklearn.linear_model import LinearRegression\n",
        "from sklearn.linear_model import Lasso\n",
        "from sklearn.linear_model import LassoCV\n",
        "from sklearn.linear_model import ElasticNetCV\n",
        "from sklearn.linear_model import LogisticRegression\n",
        "from sklearn.linear_model import LogisticRegressionCV\n",
        "from sklearn.preprocessing import StandardScaler\n",
        "from sklearn.metrics import roc_curve\n",
        "from sklearn.metrics import plot_roc_curve"
      ],
      "metadata": {
        "id": "xocIhGaDgFlf"
      },
      "execution_count": 72,
      "outputs": []
    },
    {
      "cell_type": "code",
      "source": [
        "data = pd.read_csv(\"predict_access1620.csv\", encoding = \"latin-1\")"
      ],
      "metadata": {
        "id": "FDQN6EZmgIj4"
      },
      "execution_count": 33,
      "outputs": []
    },
    {
      "cell_type": "code",
      "source": [
        "# Division de las variables predecidas y predictores\n",
        "# ==================================================\n",
        "\n",
        "predecido = ['educacion_sup']\n",
        "predictores = list(set(list(data.columns)) - set(predecido))"
      ],
      "metadata": {
        "id": "3qaxx3xvgbCi"
      },
      "execution_count": 35,
      "outputs": []
    },
    {
      "cell_type": "code",
      "source": [
        "# División de las variables en \"x\" y \"y\"\n",
        "# ======================================\n",
        "\n",
        "y = data[predecido]\n",
        "x = data[predictores]"
      ],
      "metadata": {
        "id": "qqvMbNMhgj-w"
      },
      "execution_count": 36,
      "outputs": []
    },
    {
      "cell_type": "code",
      "source": [
        "# Division en test set y training set (test set = 30%)\n",
        "# ====================================================\n",
        "\n",
        "x_train, x_test, y_train, y_test = train_test_split(x, y, \n",
        "                                                    test_size = 0.30,\n",
        "                                                    shuffle = True, \n",
        "                                                    random_state = 22)\n",
        "print(x_train.shape); print(x_test.shape)"
      ],
      "metadata": {
        "colab": {
          "base_uri": "https://localhost:8080/"
        },
        "id": "-ku9Xpvggd8B",
        "outputId": "f5de6a11-6fd3-4e64-d698-6ce28a71c4a8"
      },
      "execution_count": 37,
      "outputs": [
        {
          "output_type": "stream",
          "name": "stdout",
          "text": [
            "(529, 111)\n",
            "(228, 111)\n"
          ]
        }
      ]
    },
    {
      "cell_type": "markdown",
      "source": [
        "#### REGRESION LASSO"
      ],
      "metadata": {
        "id": "z0nYpuTJgmag"
      }
    },
    {
      "cell_type": "code",
      "source": [
        "# Generar el modelo Logistic Regression con penalidad L1\n",
        "# ======================================================\n",
        "\n",
        "lasso_r = LogisticRegressionCV(penalty='l1', solver='liblinear', cv=10)"
      ],
      "metadata": {
        "id": "ftR-bfL3gn4I"
      },
      "execution_count": 38,
      "outputs": []
    },
    {
      "cell_type": "code",
      "source": [
        "# Entrenamos el modelo\n",
        "# =====================================\n",
        "\n",
        "lasso_r = lasso_r.fit(x_train, y_train.values.ravel())"
      ],
      "metadata": {
        "id": "eUupDpyyuwb6"
      },
      "execution_count": 81,
      "outputs": []
    },
    {
      "cell_type": "code",
      "source": [
        "# Obtenemos los coeficientes LASSO\n",
        "# =================================================\n",
        "\n",
        "lasso_coeficientes = pd.DataFrame(\n",
        "                      {'predictor': x.columns,\n",
        "                      'coef':lasso_r.coef_.flatten()}\n",
        "                  )\n",
        "lasso_coeficientes"
      ],
      "metadata": {
        "id": "59UWC-EOdAIs"
      },
      "execution_count": null,
      "outputs": []
    },
    {
      "cell_type": "markdown",
      "source": [
        "#### EVALUACION DEL MODELO"
      ],
      "metadata": {
        "id": "qestA7Yel22s"
      }
    },
    {
      "cell_type": "code",
      "source": [
        "# Obtener el AUC para el training set\n",
        "# ===================================\n",
        "\n",
        "roc_auc_score(y_train, lasso_r.decision_function(x_train))"
      ],
      "metadata": {
        "colab": {
          "base_uri": "https://localhost:8080/"
        },
        "id": "7eeWo_kJeND9",
        "outputId": "c3fe148d-c24b-4124-aa74-c15c707d1070"
      },
      "execution_count": 84,
      "outputs": [
        {
          "output_type": "execute_result",
          "data": {
            "text/plain": [
              "0.7056569461583424"
            ]
          },
          "metadata": {},
          "execution_count": 84
        }
      ]
    },
    {
      "cell_type": "code",
      "source": [
        "# Graficar EL AUC para el training set\n",
        "# ====================================\n",
        "\n",
        "metrics.plot_roc_curve(lasso_r, x_train, y_train) "
      ],
      "metadata": {
        "colab": {
          "base_uri": "https://localhost:8080/",
          "height": 351
        },
        "id": "jXDZBtLOl-CY",
        "outputId": "d163fb49-10fe-4558-cf09-a630960d3636"
      },
      "execution_count": 85,
      "outputs": [
        {
          "output_type": "stream",
          "name": "stderr",
          "text": [
            "/usr/local/lib/python3.7/dist-packages/sklearn/utils/deprecation.py:87: FutureWarning: Function plot_roc_curve is deprecated; Function :func:`plot_roc_curve` is deprecated in 1.0 and will be removed in 1.2. Use one of the class methods: :meth:`sklearn.metric.RocCurveDisplay.from_predictions` or :meth:`sklearn.metric.RocCurveDisplay.from_estimator`.\n",
            "  warnings.warn(msg, category=FutureWarning)\n"
          ]
        },
        {
          "output_type": "execute_result",
          "data": {
            "text/plain": [
              "<sklearn.metrics._plot.roc_curve.RocCurveDisplay at 0x7f7b64b06110>"
            ]
          },
          "metadata": {},
          "execution_count": 85
        },
        {
          "output_type": "display_data",
          "data": {
            "text/plain": [
              "<Figure size 432x288 with 1 Axes>"
            ],
            "image/png": "[encoded data removed]"
          },
          "metadata": {
            "needs_background": "light"
          }
        }
      ]
    },
    {
      "cell_type": "code",
      "source": [
        "# Obtener el AUC para el test set\n",
        "# ===============================\n",
        "\n",
        "roc_auc_score(y_test, lasso_r.decision_function(x_test))"
      ],
      "metadata": {
        "colab": {
          "base_uri": "https://localhost:8080/"
        },
        "id": "q2hucaGtmAPR",
        "outputId": "be59a12c-58bd-46d7-b676-bcdef4e45c5b"
      },
      "execution_count": 86,
      "outputs": [
        {
          "output_type": "execute_result",
          "data": {
            "text/plain": [
              "0.7152777777777778"
            ]
          },
          "metadata": {},
          "execution_count": 86
        }
      ]
    },
    {
      "cell_type": "code",
      "source": [
        "# Graficar EL AUC para el test set\n",
        "# ================================\n",
        "\n",
        "metrics.plot_roc_curve(lasso_r, x_test, y_test) "
      ],
      "metadata": {
        "colab": {
          "base_uri": "https://localhost:8080/",
          "height": 351
        },
        "id": "RHVwnJmNlIN5",
        "outputId": "2205357e-4e80-48a6-b8f4-b9782380c466"
      },
      "execution_count": 87,
      "outputs": [
        {
          "output_type": "stream",
          "name": "stderr",
          "text": [
            "/usr/local/lib/python3.7/dist-packages/sklearn/utils/deprecation.py:87: FutureWarning: Function plot_roc_curve is deprecated; Function :func:`plot_roc_curve` is deprecated in 1.0 and will be removed in 1.2. Use one of the class methods: :meth:`sklearn.metric.RocCurveDisplay.from_predictions` or :meth:`sklearn.metric.RocCurveDisplay.from_estimator`.\n",
            "  warnings.warn(msg, category=FutureWarning)\n"
          ]
        },
        {
          "output_type": "execute_result",
          "data": {
            "text/plain": [
              "<sklearn.metrics._plot.roc_curve.RocCurveDisplay at 0x7f7b64b06090>"
            ]
          },
          "metadata": {},
          "execution_count": 87
        },
        {
          "output_type": "display_data",
          "data": {
            "text/plain": [
              "<Figure size 432x288 with 1 Axes>"
            ],
            "image/png": "[encoded data removed]"
          },
          "metadata": {
            "needs_background": "light"
          }
        }
      ]
    }
  ]
}